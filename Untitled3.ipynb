{
  "nbformat": 4,
  "nbformat_minor": 0,
  "metadata": {
    "colab": {
      "provenance": [],
      "authorship_tag": "ABX9TyPR1h/e25AOHMcL7dicpdSG",
      "include_colab_link": true
    },
    "kernelspec": {
      "name": "python3",
      "display_name": "Python 3"
    },
    "language_info": {
      "name": "python"
    }
  },
  "cells": [
    {
      "cell_type": "markdown",
      "metadata": {
        "id": "view-in-github",
        "colab_type": "text"
      },
      "source": [
        "<a href=\"https://colab.research.google.com/github/IagoCordeiro/IA.GOBot/blob/main/Untitled3.ipynb\" target=\"_parent\"><img src=\"https://colab.research.google.com/assets/colab-badge.svg\" alt=\"Open In Colab\"/></a>"
      ]
    },
    {
      "cell_type": "code",
      "execution_count": 1,
      "metadata": {
        "id": "4GTOx8HHTK2V"
      },
      "outputs": [],
      "source": [
        "!pip install -q -U google-generativeai"
      ]
    },
    {
      "cell_type": "code",
      "source": [
        "import google.generativeai as genai\n",
        "from google.colab import userdata\n",
        "\n",
        "GOOGLE_API_KEY=\"\"\n",
        "genai.configure(api_key=GOOGLE_API_KEY)"
      ],
      "metadata": {
        "id": "nYuVRbbMTd2-"
      },
      "execution_count": 2,
      "outputs": []
    },
    {
      "cell_type": "code",
      "source": [
        "for m in genai.list_models():\n",
        "  if 'generateContent' in m.supported_generation_methods:\n",
        "    print(m.name)"
      ],
      "metadata": {
        "colab": {
          "base_uri": "https://localhost:8080/",
          "height": 149
        },
        "id": "4WVHrOvWTvF2",
        "outputId": "6ea269f1-b87e-4d51-895b-0dd59cc8d35e"
      },
      "execution_count": 7,
      "outputs": [
        {
          "output_type": "stream",
          "name": "stdout",
          "text": [
            "models/gemini-1.0-pro\n",
            "models/gemini-1.0-pro-001\n",
            "models/gemini-1.0-pro-latest\n",
            "models/gemini-1.0-pro-vision-latest\n",
            "models/gemini-1.5-pro-latest\n",
            "models/gemini-pro\n",
            "models/gemini-pro-vision\n"
          ]
        }
      ]
    },
    {
      "cell_type": "code",
      "source": [
        "generation_config = {\n",
        "    \"candidate_count\": 1,\n",
        "    \"temperature\": 0.5\n",
        "}"
      ],
      "metadata": {
        "id": "Tdt2tarX-NLt"
      },
      "execution_count": 9,
      "outputs": []
    },
    {
      "cell_type": "code",
      "source": [
        "safety_settings = {\n",
        "    \"HARASSMENT\": \"BLOCK_NONE\",\n",
        "    \"HATE\": \"BLOCK_NONE\",\n",
        "    \"SEXUAL\": \"BLOCK_NONE\",\n",
        "    \"DANGEROUS\": \"BLOCK_NONE\",\n",
        "}"
      ],
      "metadata": {
        "id": "R1qSrhwY_SWH"
      },
      "execution_count": 10,
      "outputs": []
    },
    {
      "cell_type": "code",
      "source": [
        "model = genai.GenerativeModel(model_name=\"gemini-1.0-pro\",\n",
        "                              generation_config=generation_config,\n",
        "                              safety_settings=safety_settings)"
      ],
      "metadata": {
        "id": "VXU3omDUA_wj"
      },
      "execution_count": 12,
      "outputs": []
    },
    {
      "cell_type": "code",
      "source": [
        "response = model.generate_content(\"Me de sugestões para viajar para praias no litoral brasileiro\")\n",
        "print(response.text)"
      ],
      "metadata": {
        "colab": {
          "base_uri": "https://localhost:8080/",
          "height": 450
        },
        "id": "CRkbr0HWCt_a",
        "outputId": "b462b675-48b9-40b8-8a8b-265cb16d9a34"
      },
      "execution_count": 13,
      "outputs": [
        {
          "output_type": "stream",
          "name": "stdout",
          "text": [
            "**Nordeste**\n",
            "\n",
            "* **Jericoacoara, Ceará:** Dunas de areia branca, lagoas de água doce e praias paradisíacas.\n",
            "* **Lençóis Maranhenses, Maranhão:** Dunas brancas e lagoas de água doce formam um cenário único.\n",
            "* **Porto de Galinhas, Pernambuco:** Praias com piscinas naturais e águas cristalinas.\n",
            "* **Maragogi, Alagoas:** Conhecida como o \"Caribe Brasileiro\" por suas águas azuis-turquesas.\n",
            "* **João Pessoa, Paraíba:** Praias urbanas com águas mornas e coqueirais.\n",
            "\n",
            "**Sudeste**\n",
            "\n",
            "* **Búzios, Rio de Janeiro:** Praias badaladas com águas limpas e paisagens deslumbrantes.\n",
            "* **Ilha Grande, Rio de Janeiro:** Ilha paradisíaca com praias selvagens e trilhas para caminhadas.\n",
            "* **Praia do Forte, Bahia:** Praia tranquila com piscinas naturais e uma vila charmosa.\n",
            "* **Trancoso, Bahia:** Praia histórica com águas cristalinas e um cenário descontraído.\n",
            "* **Itacaré, Bahia:** Destino de surfe com praias selvagens e cachoeiras.\n",
            "\n",
            "**Sul**\n",
            "\n",
            "* **Florianópolis, Santa Catarina:** Ilha com mais de 40 praias, incluindo dunas, lagoas e águas calmas.\n",
            "* **Balneário Camboriú, Santa Catarina:** Praia urbana com arranha-céus à beira-mar e uma vida noturna animada.\n",
            "* **Bombinhas, Santa Catarina:** Praias com águas cristalinas e uma grande variedade de vida marinha.\n",
            "* **Torres, Rio Grande do Sul:** Praia com dunas gigantes e uma vista panorâmica do mar.\n",
            "* **Capão da Canoa, Rio Grande do Sul:** Praia extensa com águas calmas e um calçadão movimentado.\n"
          ]
        }
      ]
    },
    {
      "cell_type": "code",
      "source": [
        "chat = model.start_chat(history=[])"
      ],
      "metadata": {
        "id": "5tontRqsXCkh"
      },
      "execution_count": 20,
      "outputs": []
    },
    {
      "cell_type": "code",
      "source": [
        "prompt = input(\"Faça sua pergunta: \")\n",
        "while prompt != \"fim\":\n",
        "  response = chat.send_message(prompt)\n",
        "  print(\"Resposta\", response.text, \"/m\")\n",
        "  prompt = input(\"Faça sua pergunta: \")"
      ],
      "metadata": {
        "colab": {
          "base_uri": "https://localhost:8080/",
          "height": 658
        },
        "id": "Lb1MgfsBYKBY",
        "outputId": "c30a92e1-1928-44cc-b31b-48cf8990f370"
      },
      "execution_count": 22,
      "outputs": [
        {
          "name": "stdout",
          "output_type": "stream",
          "text": [
            "Faça sua pergunta: Qual o melhor lugar de pernambuco para viajar em novembro?\n",
            "Resposta **Recife**\n",
            "\n",
            "* **Praias:** Boa Viagem, Piedade e Candeias oferecem belas praias com águas mornas e ondas suaves, ideais para nadar e relaxar.\n",
            "* **Cultura:** Visite o Marco Zero, o Recife Antigo e o Museu Cais do Sertão para mergulhar na rica história e cultura da cidade.\n",
            "* **Gastronomia:** Delicie-se com a culinária pernambucana em restaurantes como o Oficina do Sabor e o Bode do Nô.\n",
            "\n",
            "**Olinda**\n",
            "\n",
            "* **Patrimônio Mundial da UNESCO:** Explore o centro histórico de Olinda, um Patrimônio Mundial da UNESCO com arquitetura colonial colorida e igrejas barrocas.\n",
            "* **Praias:** Visite as praias de Casa Caiada e Bairro Novo, que oferecem águas calmas e vistas deslumbrantes.\n",
            "* **Cultura:** Participe do Festival de Bonecos Gigantes, um evento cultural único que acontece em novembro.\n",
            "\n",
            "**Porto de Galinhas**\n",
            "\n",
            "* **Praias:** Desfrute das águas cristalinas e piscinas naturais das praias de Porto de Galinhas, como Muro Alto e Cupe.\n",
            "* **Mergulho:** Explore os recifes de coral e a vida marinha diversificada em mergulhos ou passeios de snorkel.\n",
            "* **Gastronomia:** Saboreie frutos do mar frescos e pratos regionais em restaurantes como o Beijupirá e o Coco Beach.\n",
            "\n",
            "**Fernando de Noronha**\n",
            "\n",
            "* **Patrimônio Mundial da UNESCO:** Visite este paraíso arquipélago, um Patrimônio Mundial da UNESCO conhecido por suas praias intocadas, vida selvagem diversificada e águas cristalinas.\n",
            "* **Praias:** Nade com golfinhos em Sancho, mergulhe com snorkel em Baía do Sancho e relaxe nas areias brancas de Praia do Leão.\n",
            "* **Natureza:** Explore o Parque Nacional Marinho de Fernando de Noronha, lar de tartarugas marinhas, tubarões e pássaros. /m\n",
            "Faça sua pergunta: Qual desses lugares é considerado o mais barato?\n",
            "Resposta **Olinda** é geralmente considerado o lugar mais barato para viajar em Pernambuco em novembro.\n",
            "\n",
            "* **Hospedagem:** Existem várias opções de pousadas e hotéis econômicos em Olinda, com preços a partir de R$ 50 por noite.\n",
            "* **Alimentação:** Os restaurantes em Olinda oferecem pratos tradicionais pernambucanos a preços acessíveis, com refeições custando em média R$ 20-30.\n",
            "* **Transporte:** É fácil se locomover em Olinda a pé ou de ônibus, o que ajuda a economizar em custos de transporte.\n",
            "* **Atividades:** Muitas das principais atrações de Olinda, como o centro histórico e as praias, são gratuitas ou de baixo custo para visitar.\n",
            "\n",
            "Em comparação, Recife, Porto de Galinhas e Fernando de Noronha tendem a ser mais caros, com preços mais altos para hospedagem, alimentação e atividades. /m\n",
            "Faça sua pergunta: fim\n"
          ]
        }
      ]
    },
    {
      "cell_type": "code",
      "source": [
        "import textwrap\n",
        "from IPython.display import display\n",
        "\n",
        "from IPython.display import Markdown\n",
        "\n",
        "def to_markdown(text):\n",
        "  \"\"\"\n",
        "  Converte texto em Markdown.\n",
        "\n",
        "  Args:\n",
        "    text: O texto a ser convertido.\n",
        "\n",
        "  Returns:\n",
        "    Uma instância de Markdown com o texto formatado.\n",
        "  \"\"\"\n",
        "  text = text.replace('.', '.\\n')\n",
        "  return Markdown(textwrap.indent(text, '> ', predicate=lambda _: True))\n",
        "\n",
        "for message in chat.history:\n",
        "  display(to_markdown(f\"**({message.role})**: ({message.parts[0].text})\"))\n",
        "print()\n"
      ],
      "metadata": {
        "colab": {
          "base_uri": "https://localhost:8080/",
          "height": 736
        },
        "id": "gTz8E5ENZkhC",
        "outputId": "863abc37-22d8-4d24-d423-274461b586f4"
      },
      "execution_count": 33,
      "outputs": [
        {
          "output_type": "display_data",
          "data": {
            "text/plain": [
              "<IPython.core.display.Markdown object>"
            ],
            "text/markdown": "> **(user)**: (Qual o melhor lugar de pernambuco para viajar em novembro?)"
          },
          "metadata": {}
        },
        {
          "output_type": "display_data",
          "data": {
            "text/plain": [
              "<IPython.core.display.Markdown object>"
            ],
            "text/markdown": "> **(model)**: (**Recife**\n> \n> * **Praias:** Boa Viagem, Piedade e Candeias oferecem belas praias com águas mornas e ondas suaves, ideais para nadar e relaxar.\n> \n> * **Cultura:** Visite o Marco Zero, o Recife Antigo e o Museu Cais do Sertão para mergulhar na rica história e cultura da cidade.\n> \n> * **Gastronomia:** Delicie-se com a culinária pernambucana em restaurantes como o Oficina do Sabor e o Bode do Nô.\n> \n> \n> **Olinda**\n> \n> * **Patrimônio Mundial da UNESCO:** Explore o centro histórico de Olinda, um Patrimônio Mundial da UNESCO com arquitetura colonial colorida e igrejas barrocas.\n> \n> * **Praias:** Visite as praias de Casa Caiada e Bairro Novo, que oferecem águas calmas e vistas deslumbrantes.\n> \n> * **Cultura:** Participe do Festival de Bonecos Gigantes, um evento cultural único que acontece em novembro.\n> \n> \n> **Porto de Galinhas**\n> \n> * **Praias:** Desfrute das águas cristalinas e piscinas naturais das praias de Porto de Galinhas, como Muro Alto e Cupe.\n> \n> * **Mergulho:** Explore os recifes de coral e a vida marinha diversificada em mergulhos ou passeios de snorkel.\n> \n> * **Gastronomia:** Saboreie frutos do mar frescos e pratos regionais em restaurantes como o Beijupirá e o Coco Beach.\n> \n> \n> **Fernando de Noronha**\n> \n> * **Patrimônio Mundial da UNESCO:** Visite este paraíso arquipélago, um Patrimônio Mundial da UNESCO conhecido por suas praias intocadas, vida selvagem diversificada e águas cristalinas.\n> \n> * **Praias:** Nade com golfinhos em Sancho, mergulhe com snorkel em Baía do Sancho e relaxe nas areias brancas de Praia do Leão.\n> \n> * **Natureza:** Explore o Parque Nacional Marinho de Fernando de Noronha, lar de tartarugas marinhas, tubarões e pássaros.\n> )"
          },
          "metadata": {}
        },
        {
          "output_type": "display_data",
          "data": {
            "text/plain": [
              "<IPython.core.display.Markdown object>"
            ],
            "text/markdown": "> **(user)**: (Qual desses lugares é considerado o mais barato?)"
          },
          "metadata": {}
        },
        {
          "output_type": "display_data",
          "data": {
            "text/plain": [
              "<IPython.core.display.Markdown object>"
            ],
            "text/markdown": "> **(model)**: (**Olinda** é geralmente considerado o lugar mais barato para viajar em Pernambuco em novembro.\n> \n> \n> * **Hospedagem:** Existem várias opções de pousadas e hotéis econômicos em Olinda, com preços a partir de R$ 50 por noite.\n> \n> * **Alimentação:** Os restaurantes em Olinda oferecem pratos tradicionais pernambucanos a preços acessíveis, com refeições custando em média R$ 20-30.\n> \n> * **Transporte:** É fácil se locomover em Olinda a pé ou de ônibus, o que ajuda a economizar em custos de transporte.\n> \n> * **Atividades:** Muitas das principais atrações de Olinda, como o centro histórico e as praias, são gratuitas ou de baixo custo para visitar.\n> \n> \n> Em comparação, Recife, Porto de Galinhas e Fernando de Noronha tendem a ser mais caros, com preços mais altos para hospedagem, alimentação e atividades.\n> )"
          },
          "metadata": {}
        },
        {
          "output_type": "stream",
          "name": "stdout",
          "text": [
            "\n"
          ]
        }
      ]
    },
    {
      "cell_type": "code",
      "source": [],
      "metadata": {
        "colab": {
          "base_uri": "https://localhost:8080/",
          "height": 112
        },
        "id": "wX9jbmrya-0j",
        "outputId": "656f4aec-a05e-4de9-9be6-0121c1e6cefa"
      },
      "execution_count": 34,
      "outputs": [
        {
          "output_type": "error",
          "ename": "SyntaxError",
          "evalue": "invalid syntax (<ipython-input-34-3eb8dc2dda88>, line 1)",
          "traceback": [
            "\u001b[0;36m  File \u001b[0;32m\"<ipython-input-34-3eb8dc2dda88>\"\u001b[0;36m, line \u001b[0;32m1\u001b[0m\n\u001b[0;31m    Faça sua pergunta:\u001b[0m\n\u001b[0m         ^\u001b[0m\n\u001b[0;31mSyntaxError\u001b[0m\u001b[0;31m:\u001b[0m invalid syntax\n"
          ]
        }
      ]
    }
  ]
}